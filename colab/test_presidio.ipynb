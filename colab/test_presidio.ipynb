{
  "nbformat": 4,
  "nbformat_minor": 0,
  "metadata": {
    "colab": {
      "provenance": []
    },
    "kernelspec": {
      "name": "python3",
      "display_name": "Python 3"
    },
    "language_info": {
      "name": "python"
    }
  },
  "cells": [
    {
      "cell_type": "code",
      "execution_count": 1,
      "metadata": {
        "id": "fr-Qlhr86rI-",
        "colab": {
          "base_uri": "https://localhost:8080/"
        },
        "outputId": "77ac9dd8-a564-4ecb-be9e-83e517ecbc6e"
      },
      "outputs": [
        {
          "output_type": "stream",
          "name": "stdout",
          "text": [
            "\u001b[2K   \u001b[90m━━━━━━━━━━━━━━━━━━━━━━━━━━━━━━━━━━━━━━━━\u001b[0m \u001b[32m128.7/128.7 kB\u001b[0m \u001b[31m3.3 MB/s\u001b[0m eta \u001b[36m0:00:00\u001b[0m\n",
            "\u001b[2K   \u001b[90m━━━━━━━━━━━━━━━━━━━━━━━━━━━━━━━━━━━━━━━━\u001b[0m \u001b[32m2.6/2.6 MB\u001b[0m \u001b[31m37.2 MB/s\u001b[0m eta \u001b[36m0:00:00\u001b[0m\n",
            "\u001b[2K   \u001b[90m━━━━━━━━━━━━━━━━━━━━━━━━━━━━━━━━━━━━━━━━\u001b[0m \u001b[32m107.4/107.4 kB\u001b[0m \u001b[31m7.7 MB/s\u001b[0m eta \u001b[36m0:00:00\u001b[0m\n",
            "\u001b[?25h"
          ]
        }
      ],
      "source": [
        "!pip install -q presidio-analyzer presidio-anonymizer"
      ]
    },
    {
      "cell_type": "code",
      "source": [
        "from presidio_analyzer import AnalyzerEngine\n",
        "from presidio_anonymizer import AnonymizerEngine\n",
        "\n",
        "# Create analyzer and anonymizer\n",
        "analyzer = AnalyzerEngine()\n",
        "anonymizer = AnonymizerEngine()"
      ],
      "metadata": {
        "colab": {
          "base_uri": "https://localhost:8080/"
        },
        "id": "VSAOiP4h8W0i",
        "outputId": "33a0de68-3594-4b55-dd4d-1a14efb8d114"
      },
      "execution_count": 2,
      "outputs": [
        {
          "output_type": "stream",
          "name": "stderr",
          "text": [
            "WARNING:presidio-analyzer:Model en_core_web_lg is not installed. Downloading...\n"
          ]
        },
        {
          "output_type": "stream",
          "name": "stdout",
          "text": [
            "\u001b[38;5;2m✔ Download and installation successful\u001b[0m\n",
            "You can now load the package via spacy.load('en_core_web_lg')\n",
            "\u001b[38;5;3m⚠ Restart to reload dependencies\u001b[0m\n",
            "If you are in a Jupyter or Colab notebook, you may need to restart Python in\n",
            "order to load all the package's dependencies. You can do this by selecting the\n",
            "'Restart kernel' or 'Restart runtime' option.\n"
          ]
        },
        {
          "output_type": "stream",
          "name": "stderr",
          "text": [
            "WARNING:presidio-analyzer:Recognizer not added to registry because language is not supported by registry - CreditCardRecognizer supported languages: es, registry supported languages: en\n",
            "WARNING:presidio-analyzer:Recognizer not added to registry because language is not supported by registry - CreditCardRecognizer supported languages: it, registry supported languages: en\n",
            "WARNING:presidio-analyzer:Recognizer not added to registry because language is not supported by registry - CreditCardRecognizer supported languages: pl, registry supported languages: en\n",
            "WARNING:presidio-analyzer:Recognizer not added to registry because language is not supported by registry - EsNifRecognizer supported languages: es, registry supported languages: en\n",
            "WARNING:presidio-analyzer:Recognizer not added to registry because language is not supported by registry - EsNieRecognizer supported languages: es, registry supported languages: en\n",
            "WARNING:presidio-analyzer:Recognizer not added to registry because language is not supported by registry - ItDriverLicenseRecognizer supported languages: it, registry supported languages: en\n",
            "WARNING:presidio-analyzer:Recognizer not added to registry because language is not supported by registry - ItFiscalCodeRecognizer supported languages: it, registry supported languages: en\n",
            "WARNING:presidio-analyzer:Recognizer not added to registry because language is not supported by registry - ItVatCodeRecognizer supported languages: it, registry supported languages: en\n",
            "WARNING:presidio-analyzer:Recognizer not added to registry because language is not supported by registry - ItIdentityCardRecognizer supported languages: it, registry supported languages: en\n",
            "WARNING:presidio-analyzer:Recognizer not added to registry because language is not supported by registry - ItPassportRecognizer supported languages: it, registry supported languages: en\n",
            "WARNING:presidio-analyzer:Recognizer not added to registry because language is not supported by registry - PlPeselRecognizer supported languages: pl, registry supported languages: en\n"
          ]
        }
      ]
    },
    {
      "cell_type": "code",
      "source": [
        "# Romanian text\n",
        "text = \"\"\"\n",
        "Numele meu este Andrei Popescu și locuiesc pe Strada Libertății 45, București.\n",
        "Adresa mea de email este andrei.popescu@example.ro și numărul de telefon este +40 722 123 456.\n",
        "M-am născut pe 14.03.1990, iar CNP-ul meu este 1960314330018.\n",
        "Cardul meu bancar are numărul 4532 1234 5678 9012.\n",
        "\"\"\"\n",
        "\n",
        "# Detect multiple entity types\n",
        "results = analyzer.analyze(\n",
        "    text=text,\n",
        "    entities=[\n",
        "        \"PERSON\", \"LOCATION\", \"EMAIL_ADDRESS\", \"PHONE_NUMBER\",\n",
        "        \"DATE_TIME\", \"CREDIT_CARD\"  # CNP is not built-in, will need custom recognizer\n",
        "    ],\n",
        "    language=\"en\"  # Presidio mostly works with English, but regex entities (phone, credit card, etc.) still work\n",
        ")\n",
        "\n",
        "# Anonymize text\n",
        "anonymized_text = anonymizer.anonymize(\n",
        "    text=text,\n",
        "    analyzer_results=results\n",
        ")\n",
        "\n",
        "print(\"Original text:\\n\", text)\n",
        "print(\"\\nDetected entities:\")\n",
        "for r in results:\n",
        "    print(r, text[r.start:r.end])\n",
        "\n",
        "print(\"\\nAnonymized text:\\n\", anonymized_text.text)"
      ],
      "metadata": {
        "colab": {
          "base_uri": "https://localhost:8080/"
        },
        "id": "MYs9LcB087Ej",
        "outputId": "5f55f34a-9401-422d-d523-e5dfbf342bd8"
      },
      "execution_count": 3,
      "outputs": [
        {
          "output_type": "stream",
          "name": "stdout",
          "text": [
            "Original text:\n",
            " \n",
            "Numele meu este Andrei Popescu și locuiesc pe Strada Libertății 45, București.\n",
            "Adresa mea de email este andrei.popescu@example.ro și numărul de telefon este +40 722 123 456.\n",
            "M-am născut pe 14.03.1990, iar CNP-ul meu este 1960314330018.\n",
            "Cardul meu bancar are numărul 4532 1234 5678 9012.\n",
            "\n",
            "\n",
            "Detected entities:\n",
            "type: EMAIL_ADDRESS, start: 105, end: 130, score: 1.0 andrei.popescu@example.ro\n",
            "type: PERSON, start: 1, end: 34, score: 0.85 Numele meu este Andrei Popescu și\n",
            "type: DATE_TIME, start: 190, end: 200, score: 0.6 14.03.1990\n",
            "type: PHONE_NUMBER, start: 158, end: 173, score: 0.4 +40 722 123 456\n",
            "\n",
            "Anonymized text:\n",
            " \n",
            "<PERSON> locuiesc pe Strada Libertății 45, București.\n",
            "Adresa mea de email este <EMAIL_ADDRESS> și numărul de telefon este <PHONE_NUMBER>.\n",
            "M-am născut pe <DATE_TIME>, iar CNP-ul meu este 1960314330018.\n",
            "Cardul meu bancar are numărul 4532 1234 5678 9012.\n",
            "\n"
          ]
        }
      ]
    }
  ]
}